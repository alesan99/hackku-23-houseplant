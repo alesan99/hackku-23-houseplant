{
 "cells": [
  {
   "cell_type": "code",
   "execution_count": 7,
   "metadata": {},
   "outputs": [
    {
     "ename": "ModuleNotFoundError",
     "evalue": "No module named 'db.py'; 'db' is not a package",
     "output_type": "error",
     "traceback": [
      "\u001b[1;31m---------------------------------------------------------------------------\u001b[0m",
      "\u001b[1;31mModuleNotFoundError\u001b[0m                       Traceback (most recent call last)",
      "Cell \u001b[1;32mIn[7], line 1\u001b[0m\n\u001b[1;32m----> 1\u001b[0m \u001b[39mfrom\u001b[39;00m \u001b[39mdb\u001b[39;00m\u001b[39m.\u001b[39;00m\u001b[39mpy\u001b[39;00m \u001b[39mimport\u001b[39;00m get_db\n",
      "\u001b[1;31mModuleNotFoundError\u001b[0m: No module named 'db.py'; 'db' is not a package"
     ]
    }
   ],
   "source": [
    "from db.py import get_db"
   ]
  },
  {
   "cell_type": "code",
   "execution_count": 5,
   "metadata": {},
   "outputs": [
    {
     "ename": "NameError",
     "evalue": "name 'get_db' is not defined",
     "output_type": "error",
     "traceback": [
      "\u001b[1;31m---------------------------------------------------------------------------\u001b[0m",
      "\u001b[1;31mNameError\u001b[0m                                 Traceback (most recent call last)",
      "Cell \u001b[1;32mIn[5], line 1\u001b[0m\n\u001b[1;32m----> 1\u001b[0m db \u001b[39m=\u001b[39m get_db()\n\u001b[0;32m      2\u001b[0m \u001b[39mid\u001b[39m \u001b[39m=\u001b[39m session[\u001b[39m'\u001b[39m\u001b[39muser_id\u001b[39m\u001b[39m'\u001b[39m]\n\u001b[0;32m      3\u001b[0m error \u001b[39m=\u001b[39m \u001b[39mNone\u001b[39;00m\n",
      "\u001b[1;31mNameError\u001b[0m: name 'get_db' is not defined"
     ]
    }
   ],
   "source": [
    "db = get_db()\n",
    "id = session['user_id']\n",
    "error = None\n",
    "user = db.execute(\n",
    "'SELECT * FROM quiz WHERE user_id = ?', (id,)\n",
    ").fetchall()\n",
    "df = pd.DataFrame(\n",
    "    user\n",
    ")\n",
    "x= str(df.head())\n",
    "return render_template('auth/math_results.html',tables =[df.to_html(classes='data')],titles=df.columns.values)"
   ]
  }
 ],
 "metadata": {
  "kernelspec": {
   "display_name": "Python 3",
   "language": "python",
   "name": "python3"
  },
  "language_info": {
   "codemirror_mode": {
    "name": "ipython",
    "version": 3
   },
   "file_extension": ".py",
   "mimetype": "text/x-python",
   "name": "python",
   "nbconvert_exporter": "python",
   "pygments_lexer": "ipython3",
   "version": "3.11.1"
  },
  "orig_nbformat": 4
 },
 "nbformat": 4,
 "nbformat_minor": 2
}
