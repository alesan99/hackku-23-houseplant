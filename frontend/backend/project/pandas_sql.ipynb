{
 "cells": [
  {
   "cell_type": "code",
   "execution_count": 3,
   "metadata": {},
   "outputs": [],
   "source": [
    "from db import get_db"
   ]
  },
  {
   "cell_type": "code",
   "execution_count": 5,
   "metadata": {},
   "outputs": [
    {
     "ename": "RuntimeError",
     "evalue": "Working outside of application context.\n\nThis typically means that you attempted to use functionality that needed\nthe current application. To solve this, set up an application context\nwith app.app_context(). See the documentation for more information.",
     "output_type": "error",
     "traceback": [
      "\u001b[1;31m---------------------------------------------------------------------------\u001b[0m",
      "\u001b[1;31mRuntimeError\u001b[0m                              Traceback (most recent call last)",
      "Cell \u001b[1;32mIn[5], line 24\u001b[0m\n\u001b[0;32m     22\u001b[0m         winner \u001b[39m=\u001b[39m \u001b[39m\"\u001b[39m\u001b[39mCombined\u001b[39m\u001b[39m\"\u001b[39m\n\u001b[0;32m     23\u001b[0m     \u001b[39mprint\u001b[39m(winner)\n\u001b[1;32m---> 24\u001b[0m results()\n",
      "Cell \u001b[1;32mIn[5], line 3\u001b[0m, in \u001b[0;36mresults\u001b[1;34m()\u001b[0m\n\u001b[0;32m      1\u001b[0m \u001b[39mdef\u001b[39;00m \u001b[39mresults\u001b[39m():\n\u001b[0;32m      2\u001b[0m     cats \u001b[39m=\u001b[39m [\u001b[39m0\u001b[39m,\u001b[39m1\u001b[39m,\u001b[39m0\u001b[39m,\u001b[39m0\u001b[39m,\u001b[39m1\u001b[39m,\u001b[39m0\u001b[39m,\u001b[39m0\u001b[39m,\u001b[39m0\u001b[39m,\u001b[39m1\u001b[39m,\u001b[39m1\u001b[39m,\u001b[39m0\u001b[39m,\u001b[39m1\u001b[39m,\u001b[39m1\u001b[39m,\u001b[39m1\u001b[39m,\u001b[39m0\u001b[39m,\u001b[39m1\u001b[39m]\n\u001b[1;32m----> 3\u001b[0m     db \u001b[39m=\u001b[39m get_db()\n\u001b[0;32m      4\u001b[0m     \u001b[39mid\u001b[39m \u001b[39m=\u001b[39m session[\u001b[39m'\u001b[39m\u001b[39muser_id\u001b[39m\u001b[39m'\u001b[39m]\n\u001b[0;32m      5\u001b[0m     error \u001b[39m=\u001b[39m \u001b[39mNone\u001b[39;00m\n",
      "File \u001b[1;32mc:\\Users\\mc123\\hackku-23-houseplant\\frontend\\backend\\project\\db.py:16\u001b[0m, in \u001b[0;36mget_db\u001b[1;34m()\u001b[0m\n\u001b[0;32m     15\u001b[0m \u001b[39mdef\u001b[39;00m \u001b[39mget_db\u001b[39m():\n\u001b[1;32m---> 16\u001b[0m     \u001b[39mif\u001b[39;00m \u001b[39m'\u001b[39;49m\u001b[39mdb\u001b[39;49m\u001b[39m'\u001b[39;49m \u001b[39mnot\u001b[39;49;00m \u001b[39min\u001b[39;49;00m g:\n\u001b[0;32m     17\u001b[0m         g\u001b[39m.\u001b[39mdb \u001b[39m=\u001b[39m sqlite3\u001b[39m.\u001b[39mconnect(\n\u001b[0;32m     18\u001b[0m             current_app\u001b[39m.\u001b[39mconfig[\u001b[39m'\u001b[39m\u001b[39mDATABASE\u001b[39m\u001b[39m'\u001b[39m],\n\u001b[0;32m     19\u001b[0m             detect_types\u001b[39m=\u001b[39msqlite3\u001b[39m.\u001b[39mPARSE_DECLTYPES\n\u001b[0;32m     20\u001b[0m         )\n\u001b[0;32m     21\u001b[0m         g\u001b[39m.\u001b[39mdb\u001b[39m.\u001b[39mrow_factory \u001b[39m=\u001b[39m sqlite3\u001b[39m.\u001b[39mRow\n",
      "File \u001b[1;32mc:\\Users\\mc123\\AppData\\Local\\Programs\\Python\\Python311\\Lib\\site-packages\\werkzeug\\local.py:316\u001b[0m, in \u001b[0;36m_ProxyLookup.__get__\u001b[1;34m(self, instance, owner)\u001b[0m\n\u001b[0;32m    313\u001b[0m     \u001b[39mreturn\u001b[39;00m \u001b[39mself\u001b[39m\n\u001b[0;32m    315\u001b[0m \u001b[39mtry\u001b[39;00m:\n\u001b[1;32m--> 316\u001b[0m     obj \u001b[39m=\u001b[39m instance\u001b[39m.\u001b[39;49m_get_current_object()\n\u001b[0;32m    317\u001b[0m \u001b[39mexcept\u001b[39;00m \u001b[39mRuntimeError\u001b[39;00m:\n\u001b[0;32m    318\u001b[0m     \u001b[39mif\u001b[39;00m \u001b[39mself\u001b[39m\u001b[39m.\u001b[39mfallback \u001b[39mis\u001b[39;00m \u001b[39mNone\u001b[39;00m:\n",
      "File \u001b[1;32mc:\\Users\\mc123\\AppData\\Local\\Programs\\Python\\Python311\\Lib\\site-packages\\werkzeug\\local.py:513\u001b[0m, in \u001b[0;36mLocalProxy.__init__.<locals>._get_current_object\u001b[1;34m()\u001b[0m\n\u001b[0;32m    511\u001b[0m     obj \u001b[39m=\u001b[39m local\u001b[39m.\u001b[39mget()  \u001b[39m# type: ignore[union-attr]\u001b[39;00m\n\u001b[0;32m    512\u001b[0m \u001b[39mexcept\u001b[39;00m \u001b[39mLookupError\u001b[39;00m:\n\u001b[1;32m--> 513\u001b[0m     \u001b[39mraise\u001b[39;00m \u001b[39mRuntimeError\u001b[39;00m(unbound_message) \u001b[39mfrom\u001b[39;00m \u001b[39mNone\u001b[39;00m\n\u001b[0;32m    515\u001b[0m \u001b[39mreturn\u001b[39;00m get_name(obj)\n",
      "\u001b[1;31mRuntimeError\u001b[0m: Working outside of application context.\n\nThis typically means that you attempted to use functionality that needed\nthe current application. To solve this, set up an application context\nwith app.app_context(). See the documentation for more information."
     ]
    }
   ],
   "source": [
    "def results():\n",
    "    cats = [0,1,0,0,1,0,0,0,1,1,0,1,1,1,0,1]\n",
    "    db = get_db()\n",
    "    id = session['user_id']\n",
    "    error = None\n",
    "    user = db.execute(\n",
    "    'SELECT * FROM quiz WHERE user_id = ?', (id,)\n",
    "    ).fetchall()\n",
    "    df = pd.DataFrame(\n",
    "        user\n",
    "    )\n",
    "    df.drop(df.columns[0], axis=1, inplace=True)\n",
    "    df[\"q_list\"] = cats\n",
    "    sum_type1 = sum(df[df['q_list']==1][1])\n",
    "    sum_type2 = sum(df[df['q_list']==0][1])\n",
    "    sum_type3 = int(((sum_type1+sum_type2)/2))\n",
    "    if sum_type1 > sum_type2 and sum_type3:\n",
    "        winner = \"Inattentive Type\"\n",
    "    if sum_type2 > sum_type1 and sum_type3:\n",
    "        winner = \"Impulsive-Hyperactive Type\"\n",
    "    if sum_type3 > sum_type1 and sum_type2:\n",
    "        winner = \"Combined\"\n",
    "    print(winner)\n",
    "results()"
   ]
  }
 ],
 "metadata": {
  "kernelspec": {
   "display_name": "Python 3",
   "language": "python",
   "name": "python3"
  },
  "language_info": {
   "codemirror_mode": {
    "name": "ipython",
    "version": 3
   },
   "file_extension": ".py",
   "mimetype": "text/x-python",
   "name": "python",
   "nbconvert_exporter": "python",
   "pygments_lexer": "ipython3",
   "version": "3.11.1"
  },
  "orig_nbformat": 4
 },
 "nbformat": 4,
 "nbformat_minor": 2
}
